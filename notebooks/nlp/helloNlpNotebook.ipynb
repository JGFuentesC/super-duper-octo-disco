{
  "cells": [
    {
      "cell_type": "markdown",
      "id": "painful-terrace",
      "metadata": {
        "id": "painful-terrace"
      },
      "source": [
        "## Dependencias"
      ]
    },
    {
      "cell_type": "code",
      "execution_count": null,
      "id": "guided-burst",
      "metadata": {
        "ExecuteTime": {
          "end_time": "2021-09-30T21:41:20.865631Z",
          "start_time": "2021-09-30T21:41:18.749734Z"
        },
        "colab": {
          "base_uri": "https://localhost:8080/"
        },
        "id": "guided-burst",
        "outputId": "afc7d6b7-7660-4f3d-ab77-fcc3e22aa3a1"
      },
      "outputs": [
        {
          "output_type": "stream",
          "name": "stdout",
          "text": [
            "Drive already mounted at /content/drive; to attempt to forcibly remount, call drive.mount(\"/content/drive\", force_remount=True).\n"
          ]
        }
      ],
      "source": [
        "import numpy as np\n",
        "import pandas as pd\n",
        "import re\n",
        "import os\n",
        "\n",
        "\n",
        "from collections import Counter\n",
        "from functools import reduce\n",
        "\n",
        "import spacy\n",
        "from spacy.lang.es import Spanish\n",
        "from spacy.lang.es.stop_words import STOP_WORDS\n",
        "from nltk.corpus import stopwords\n",
        "\n",
        "import matplotlib.pyplot as plt\n",
        "\n",
        "import tensorflow as tf\n",
        "from tensorflow.keras.models import Sequential\n",
        "from tensorflow.keras.layers import LSTM, Dense, Dropout\n",
        "from tensorflow.keras.layers import SpatialDropout1D\n",
        "from tensorflow.keras.layers import Embedding\n",
        "from sklearn.model_selection import train_test_split\n",
        "from sklearn.metrics import roc_auc_score,accuracy_score\n",
        "\n",
        "import openpyxl\n",
        "import xlrd\n",
        "from google.colab import drive\n",
        "import os\n",
        "drive.mount('/content/drive')"
      ]
    },
    {
      "cell_type": "markdown",
      "id": "settled-moment",
      "metadata": {
        "id": "settled-moment"
      },
      "source": [
        "## Carga de datos de texto"
      ]
    },
    {
      "cell_type": "code",
      "execution_count": null,
      "id": "parental-gauge",
      "metadata": {
        "ExecuteTime": {
          "end_time": "2021-09-30T21:41:20.909855Z",
          "start_time": "2021-09-30T21:41:20.866891Z"
        },
        "id": "parental-gauge"
      },
      "outputs": [],
      "source": [
        "ruta = '/content/drive/My Drive/deep learning/Opiniones Diplo Concentrado.xlsx'\n",
        "\n",
        "\n",
        "xl = openpyxl.load_workbook(ruta)\n",
        "\n",
        "df = pd.concat(map(lambda h:pd.read_excel(ruta,sheet_name=h),xl.sheetnames),ignore_index=True)"
      ]
    },
    {
      "cell_type": "code",
      "execution_count": null,
      "id": "rental-sugar",
      "metadata": {
        "ExecuteTime": {
          "end_time": "2021-09-30T21:41:21.396669Z",
          "start_time": "2021-09-30T21:41:21.375359Z"
        },
        "colab": {
          "base_uri": "https://localhost:8080/"
        },
        "id": "rental-sugar",
        "outputId": "6d294279-c180-4add-f202-3c6851985668"
      },
      "outputs": [
        {
          "output_type": "execute_result",
          "data": {
            "text/plain": [
              "(271, 9)"
            ]
          },
          "metadata": {},
          "execution_count": 5
        }
      ],
      "source": [
        "df.shape"
      ]
    },
    {
      "cell_type": "code",
      "source": [
        "df.head(2)"
      ],
      "metadata": {
        "colab": {
          "base_uri": "https://localhost:8080/",
          "height": 471
        },
        "id": "U3EQ5ytTNH_X",
        "outputId": "830acb53-a097-48f1-8090-e1efc995a11a"
      },
      "id": "U3EQ5ytTNH_X",
      "execution_count": null,
      "outputs": [
        {
          "output_type": "execute_result",
          "data": {
            "text/plain": [
              "                Timestamp  \\\n",
              "0 2022-07-28 18:51:17.448   \n",
              "1 2022-07-28 18:54:47.254   \n",
              "\n",
              "   ¿Cómo calificas la calidad de los contenidos del curso?  \\\n",
              "0                                                  5         \n",
              "1                                                  5         \n",
              "\n",
              "   ¿Cómo calificas la calidad de los materiales(apuntes, códigos, datos, etc.?  \\\n",
              "0                                                  5                             \n",
              "1                                                  5                             \n",
              "\n",
              "   ¿Cómo calificas el nivel de dificultad de los contenidos del curso?  \\\n",
              "0                                                  5                     \n",
              "1                                                  4                     \n",
              "\n",
              "   ¿Cómo calificas la calidad del ponente?  \\\n",
              "0                                        5   \n",
              "1                                        5   \n",
              "\n",
              "   ¿Cómo calificas el nivel de dificultad de la evaluación?  \\\n",
              "0                                                  5          \n",
              "1                                                  3          \n",
              "\n",
              "   ¿Cómo calificas la calidad de las prácticas en clase?  \\\n",
              "0                                                  5       \n",
              "1                                                  5       \n",
              "\n",
              "   En general, ¿Cuántas estrellas darías al módulo?  \\\n",
              "0                                                 5   \n",
              "1                                                 5   \n",
              "\n",
              "  Por favor, emite tu libre opinión sobre el módulo en general (instructor, material, contenido, etc.)  \n",
              "0  Ponente muy preparado, y nos ayudo a ver que m...                                                    \n",
              "1  El módulo es bastante retador respecto a conte...                                                    "
            ],
            "text/html": [
              "\n",
              "  <div id=\"df-0b6cb8a0-4771-4b8f-abfa-1da2418b4fcd\">\n",
              "    <div class=\"colab-df-container\">\n",
              "      <div>\n",
              "<style scoped>\n",
              "    .dataframe tbody tr th:only-of-type {\n",
              "        vertical-align: middle;\n",
              "    }\n",
              "\n",
              "    .dataframe tbody tr th {\n",
              "        vertical-align: top;\n",
              "    }\n",
              "\n",
              "    .dataframe thead th {\n",
              "        text-align: right;\n",
              "    }\n",
              "</style>\n",
              "<table border=\"1\" class=\"dataframe\">\n",
              "  <thead>\n",
              "    <tr style=\"text-align: right;\">\n",
              "      <th></th>\n",
              "      <th>Timestamp</th>\n",
              "      <th>¿Cómo calificas la calidad de los contenidos del curso?</th>\n",
              "      <th>¿Cómo calificas la calidad de los materiales(apuntes, códigos, datos, etc.?</th>\n",
              "      <th>¿Cómo calificas el nivel de dificultad de los contenidos del curso?</th>\n",
              "      <th>¿Cómo calificas la calidad del ponente?</th>\n",
              "      <th>¿Cómo calificas el nivel de dificultad de la evaluación?</th>\n",
              "      <th>¿Cómo calificas la calidad de las prácticas en clase?</th>\n",
              "      <th>En general, ¿Cuántas estrellas darías al módulo?</th>\n",
              "      <th>Por favor, emite tu libre opinión sobre el módulo en general (instructor, material, contenido, etc.)</th>\n",
              "    </tr>\n",
              "  </thead>\n",
              "  <tbody>\n",
              "    <tr>\n",
              "      <th>0</th>\n",
              "      <td>2022-07-28 18:51:17.448</td>\n",
              "      <td>5</td>\n",
              "      <td>5</td>\n",
              "      <td>5</td>\n",
              "      <td>5</td>\n",
              "      <td>5</td>\n",
              "      <td>5</td>\n",
              "      <td>5</td>\n",
              "      <td>Ponente muy preparado, y nos ayudo a ver que m...</td>\n",
              "    </tr>\n",
              "    <tr>\n",
              "      <th>1</th>\n",
              "      <td>2022-07-28 18:54:47.254</td>\n",
              "      <td>5</td>\n",
              "      <td>5</td>\n",
              "      <td>4</td>\n",
              "      <td>5</td>\n",
              "      <td>3</td>\n",
              "      <td>5</td>\n",
              "      <td>5</td>\n",
              "      <td>El módulo es bastante retador respecto a conte...</td>\n",
              "    </tr>\n",
              "  </tbody>\n",
              "</table>\n",
              "</div>\n",
              "      <button class=\"colab-df-convert\" onclick=\"convertToInteractive('df-0b6cb8a0-4771-4b8f-abfa-1da2418b4fcd')\"\n",
              "              title=\"Convert this dataframe to an interactive table.\"\n",
              "              style=\"display:none;\">\n",
              "        \n",
              "  <svg xmlns=\"http://www.w3.org/2000/svg\" height=\"24px\"viewBox=\"0 0 24 24\"\n",
              "       width=\"24px\">\n",
              "    <path d=\"M0 0h24v24H0V0z\" fill=\"none\"/>\n",
              "    <path d=\"M18.56 5.44l.94 2.06.94-2.06 2.06-.94-2.06-.94-.94-2.06-.94 2.06-2.06.94zm-11 1L8.5 8.5l.94-2.06 2.06-.94-2.06-.94L8.5 2.5l-.94 2.06-2.06.94zm10 10l.94 2.06.94-2.06 2.06-.94-2.06-.94-.94-2.06-.94 2.06-2.06.94z\"/><path d=\"M17.41 7.96l-1.37-1.37c-.4-.4-.92-.59-1.43-.59-.52 0-1.04.2-1.43.59L10.3 9.45l-7.72 7.72c-.78.78-.78 2.05 0 2.83L4 21.41c.39.39.9.59 1.41.59.51 0 1.02-.2 1.41-.59l7.78-7.78 2.81-2.81c.8-.78.8-2.07 0-2.86zM5.41 20L4 18.59l7.72-7.72 1.47 1.35L5.41 20z\"/>\n",
              "  </svg>\n",
              "      </button>\n",
              "      \n",
              "  <style>\n",
              "    .colab-df-container {\n",
              "      display:flex;\n",
              "      flex-wrap:wrap;\n",
              "      gap: 12px;\n",
              "    }\n",
              "\n",
              "    .colab-df-convert {\n",
              "      background-color: #E8F0FE;\n",
              "      border: none;\n",
              "      border-radius: 50%;\n",
              "      cursor: pointer;\n",
              "      display: none;\n",
              "      fill: #1967D2;\n",
              "      height: 32px;\n",
              "      padding: 0 0 0 0;\n",
              "      width: 32px;\n",
              "    }\n",
              "\n",
              "    .colab-df-convert:hover {\n",
              "      background-color: #E2EBFA;\n",
              "      box-shadow: 0px 1px 2px rgba(60, 64, 67, 0.3), 0px 1px 3px 1px rgba(60, 64, 67, 0.15);\n",
              "      fill: #174EA6;\n",
              "    }\n",
              "\n",
              "    [theme=dark] .colab-df-convert {\n",
              "      background-color: #3B4455;\n",
              "      fill: #D2E3FC;\n",
              "    }\n",
              "\n",
              "    [theme=dark] .colab-df-convert:hover {\n",
              "      background-color: #434B5C;\n",
              "      box-shadow: 0px 1px 3px 1px rgba(0, 0, 0, 0.15);\n",
              "      filter: drop-shadow(0px 1px 2px rgba(0, 0, 0, 0.3));\n",
              "      fill: #FFFFFF;\n",
              "    }\n",
              "  </style>\n",
              "\n",
              "      <script>\n",
              "        const buttonEl =\n",
              "          document.querySelector('#df-0b6cb8a0-4771-4b8f-abfa-1da2418b4fcd button.colab-df-convert');\n",
              "        buttonEl.style.display =\n",
              "          google.colab.kernel.accessAllowed ? 'block' : 'none';\n",
              "\n",
              "        async function convertToInteractive(key) {\n",
              "          const element = document.querySelector('#df-0b6cb8a0-4771-4b8f-abfa-1da2418b4fcd');\n",
              "          const dataTable =\n",
              "            await google.colab.kernel.invokeFunction('convertToInteractive',\n",
              "                                                     [key], {});\n",
              "          if (!dataTable) return;\n",
              "\n",
              "          const docLinkHtml = 'Like what you see? Visit the ' +\n",
              "            '<a target=\"_blank\" href=https://colab.research.google.com/notebooks/data_table.ipynb>data table notebook</a>'\n",
              "            + ' to learn more about interactive tables.';\n",
              "          element.innerHTML = '';\n",
              "          dataTable['output_type'] = 'display_data';\n",
              "          await google.colab.output.renderOutput(dataTable, element);\n",
              "          const docLink = document.createElement('div');\n",
              "          docLink.innerHTML = docLinkHtml;\n",
              "          element.appendChild(docLink);\n",
              "        }\n",
              "      </script>\n",
              "    </div>\n",
              "  </div>\n",
              "  "
            ]
          },
          "metadata": {},
          "execution_count": 7
        }
      ]
    },
    {
      "cell_type": "markdown",
      "id": "urban-flour",
      "metadata": {
        "id": "urban-flour"
      },
      "source": [
        "## Preprocesamiento"
      ]
    },
    {
      "cell_type": "markdown",
      "source": [],
      "metadata": {
        "id": "V06DWJE5MSvr"
      },
      "id": "V06DWJE5MSvr"
    },
    {
      "cell_type": "code",
      "execution_count": null,
      "id": "trying-municipality",
      "metadata": {
        "ExecuteTime": {
          "end_time": "2021-09-30T21:41:22.230927Z",
          "start_time": "2021-09-30T21:41:22.221311Z"
        },
        "id": "trying-municipality"
      },
      "outputs": [],
      "source": [
        "df = df[['Por favor, emite tu libre opinión sobre el módulo en general (instructor, material, contenido, etc.)',\n",
        "        'En general, ¿Cuántas estrellas darías al módulo?']]\n",
        "df.columns = ['texto','sentimiento']"
      ]
    },
    {
      "cell_type": "code",
      "execution_count": null,
      "id": "lonely-tissue",
      "metadata": {
        "colab": {
          "base_uri": "https://localhost:8080/",
          "height": 206
        },
        "id": "lonely-tissue",
        "outputId": "8f41f84d-4f25-4aa4-ed44-6f83e80fabe7"
      },
      "outputs": [
        {
          "output_type": "execute_result",
          "data": {
            "text/plain": [
              "                                               texto  sentimiento\n",
              "0  Ponente muy preparado, y nos ayudo a ver que m...            5\n",
              "1  El módulo es bastante retador respecto a conte...            5\n",
              "2  Me ha encantado mucho este modulo, creo que se...            5\n",
              "3  Sería de ayuda tener códigos adicionales con m...            5\n",
              "4  El profesor Oscar es muy bueno. Sabe dar muy b...            5"
            ],
            "text/html": [
              "\n",
              "  <div id=\"df-4dc01cb1-a168-4d9d-9162-1abe60b1889a\">\n",
              "    <div class=\"colab-df-container\">\n",
              "      <div>\n",
              "<style scoped>\n",
              "    .dataframe tbody tr th:only-of-type {\n",
              "        vertical-align: middle;\n",
              "    }\n",
              "\n",
              "    .dataframe tbody tr th {\n",
              "        vertical-align: top;\n",
              "    }\n",
              "\n",
              "    .dataframe thead th {\n",
              "        text-align: right;\n",
              "    }\n",
              "</style>\n",
              "<table border=\"1\" class=\"dataframe\">\n",
              "  <thead>\n",
              "    <tr style=\"text-align: right;\">\n",
              "      <th></th>\n",
              "      <th>texto</th>\n",
              "      <th>sentimiento</th>\n",
              "    </tr>\n",
              "  </thead>\n",
              "  <tbody>\n",
              "    <tr>\n",
              "      <th>0</th>\n",
              "      <td>Ponente muy preparado, y nos ayudo a ver que m...</td>\n",
              "      <td>5</td>\n",
              "    </tr>\n",
              "    <tr>\n",
              "      <th>1</th>\n",
              "      <td>El módulo es bastante retador respecto a conte...</td>\n",
              "      <td>5</td>\n",
              "    </tr>\n",
              "    <tr>\n",
              "      <th>2</th>\n",
              "      <td>Me ha encantado mucho este modulo, creo que se...</td>\n",
              "      <td>5</td>\n",
              "    </tr>\n",
              "    <tr>\n",
              "      <th>3</th>\n",
              "      <td>Sería de ayuda tener códigos adicionales con m...</td>\n",
              "      <td>5</td>\n",
              "    </tr>\n",
              "    <tr>\n",
              "      <th>4</th>\n",
              "      <td>El profesor Oscar es muy bueno. Sabe dar muy b...</td>\n",
              "      <td>5</td>\n",
              "    </tr>\n",
              "  </tbody>\n",
              "</table>\n",
              "</div>\n",
              "      <button class=\"colab-df-convert\" onclick=\"convertToInteractive('df-4dc01cb1-a168-4d9d-9162-1abe60b1889a')\"\n",
              "              title=\"Convert this dataframe to an interactive table.\"\n",
              "              style=\"display:none;\">\n",
              "        \n",
              "  <svg xmlns=\"http://www.w3.org/2000/svg\" height=\"24px\"viewBox=\"0 0 24 24\"\n",
              "       width=\"24px\">\n",
              "    <path d=\"M0 0h24v24H0V0z\" fill=\"none\"/>\n",
              "    <path d=\"M18.56 5.44l.94 2.06.94-2.06 2.06-.94-2.06-.94-.94-2.06-.94 2.06-2.06.94zm-11 1L8.5 8.5l.94-2.06 2.06-.94-2.06-.94L8.5 2.5l-.94 2.06-2.06.94zm10 10l.94 2.06.94-2.06 2.06-.94-2.06-.94-.94-2.06-.94 2.06-2.06.94z\"/><path d=\"M17.41 7.96l-1.37-1.37c-.4-.4-.92-.59-1.43-.59-.52 0-1.04.2-1.43.59L10.3 9.45l-7.72 7.72c-.78.78-.78 2.05 0 2.83L4 21.41c.39.39.9.59 1.41.59.51 0 1.02-.2 1.41-.59l7.78-7.78 2.81-2.81c.8-.78.8-2.07 0-2.86zM5.41 20L4 18.59l7.72-7.72 1.47 1.35L5.41 20z\"/>\n",
              "  </svg>\n",
              "      </button>\n",
              "      \n",
              "  <style>\n",
              "    .colab-df-container {\n",
              "      display:flex;\n",
              "      flex-wrap:wrap;\n",
              "      gap: 12px;\n",
              "    }\n",
              "\n",
              "    .colab-df-convert {\n",
              "      background-color: #E8F0FE;\n",
              "      border: none;\n",
              "      border-radius: 50%;\n",
              "      cursor: pointer;\n",
              "      display: none;\n",
              "      fill: #1967D2;\n",
              "      height: 32px;\n",
              "      padding: 0 0 0 0;\n",
              "      width: 32px;\n",
              "    }\n",
              "\n",
              "    .colab-df-convert:hover {\n",
              "      background-color: #E2EBFA;\n",
              "      box-shadow: 0px 1px 2px rgba(60, 64, 67, 0.3), 0px 1px 3px 1px rgba(60, 64, 67, 0.15);\n",
              "      fill: #174EA6;\n",
              "    }\n",
              "\n",
              "    [theme=dark] .colab-df-convert {\n",
              "      background-color: #3B4455;\n",
              "      fill: #D2E3FC;\n",
              "    }\n",
              "\n",
              "    [theme=dark] .colab-df-convert:hover {\n",
              "      background-color: #434B5C;\n",
              "      box-shadow: 0px 1px 3px 1px rgba(0, 0, 0, 0.15);\n",
              "      filter: drop-shadow(0px 1px 2px rgba(0, 0, 0, 0.3));\n",
              "      fill: #FFFFFF;\n",
              "    }\n",
              "  </style>\n",
              "\n",
              "      <script>\n",
              "        const buttonEl =\n",
              "          document.querySelector('#df-4dc01cb1-a168-4d9d-9162-1abe60b1889a button.colab-df-convert');\n",
              "        buttonEl.style.display =\n",
              "          google.colab.kernel.accessAllowed ? 'block' : 'none';\n",
              "\n",
              "        async function convertToInteractive(key) {\n",
              "          const element = document.querySelector('#df-4dc01cb1-a168-4d9d-9162-1abe60b1889a');\n",
              "          const dataTable =\n",
              "            await google.colab.kernel.invokeFunction('convertToInteractive',\n",
              "                                                     [key], {});\n",
              "          if (!dataTable) return;\n",
              "\n",
              "          const docLinkHtml = 'Like what you see? Visit the ' +\n",
              "            '<a target=\"_blank\" href=https://colab.research.google.com/notebooks/data_table.ipynb>data table notebook</a>'\n",
              "            + ' to learn more about interactive tables.';\n",
              "          element.innerHTML = '';\n",
              "          dataTable['output_type'] = 'display_data';\n",
              "          await google.colab.output.renderOutput(dataTable, element);\n",
              "          const docLink = document.createElement('div');\n",
              "          docLink.innerHTML = docLinkHtml;\n",
              "          element.appendChild(docLink);\n",
              "        }\n",
              "      </script>\n",
              "    </div>\n",
              "  </div>\n",
              "  "
            ]
          },
          "metadata": {},
          "execution_count": 9
        }
      ],
      "source": [
        "df.head()"
      ]
    },
    {
      "cell_type": "code",
      "source": [
        "df['sentimiento'].describe()"
      ],
      "metadata": {
        "colab": {
          "base_uri": "https://localhost:8080/"
        },
        "id": "4uajbBZSMTk3",
        "outputId": "eccc4e87-aca1-4d9f-9cf0-dcaff29c59eb"
      },
      "id": "4uajbBZSMTk3",
      "execution_count": null,
      "outputs": [
        {
          "output_type": "execute_result",
          "data": {
            "text/plain": [
              "count    271.000000\n",
              "mean       4.656827\n",
              "std        0.641425\n",
              "min        1.000000\n",
              "25%        4.000000\n",
              "50%        5.000000\n",
              "75%        5.000000\n",
              "max        5.000000\n",
              "Name: sentimiento, dtype: float64"
            ]
          },
          "metadata": {},
          "execution_count": 10
        }
      ]
    },
    {
      "cell_type": "markdown",
      "id": "apparent-links",
      "metadata": {
        "id": "apparent-links"
      },
      "source": [
        "### Minúsculas"
      ]
    },
    {
      "cell_type": "code",
      "execution_count": null,
      "id": "supposed-exhibit",
      "metadata": {
        "ExecuteTime": {
          "end_time": "2021-09-30T21:41:22.995618Z",
          "start_time": "2021-09-30T21:41:22.985194Z"
        },
        "id": "supposed-exhibit"
      },
      "outputs": [],
      "source": [
        "df['texto'] = df['texto'].map(str.lower)"
      ]
    },
    {
      "cell_type": "code",
      "execution_count": null,
      "id": "violent-argentina",
      "metadata": {
        "colab": {
          "base_uri": "https://localhost:8080/",
          "height": 206
        },
        "id": "violent-argentina",
        "outputId": "a533057d-98b7-4269-f47b-367a6c66d5a8"
      },
      "outputs": [
        {
          "output_type": "execute_result",
          "data": {
            "text/plain": [
              "                                               texto  sentimiento\n",
              "0  ponente muy preparado, y nos ayudo a ver que m...            5\n",
              "1  el módulo es bastante retador respecto a conte...            5\n",
              "2  me ha encantado mucho este modulo, creo que se...            5\n",
              "3  sería de ayuda tener códigos adicionales con m...            5\n",
              "4  el profesor oscar es muy bueno. sabe dar muy b...            5"
            ],
            "text/html": [
              "\n",
              "  <div id=\"df-2141049c-0b12-40d2-9e30-3010c5a7cd14\">\n",
              "    <div class=\"colab-df-container\">\n",
              "      <div>\n",
              "<style scoped>\n",
              "    .dataframe tbody tr th:only-of-type {\n",
              "        vertical-align: middle;\n",
              "    }\n",
              "\n",
              "    .dataframe tbody tr th {\n",
              "        vertical-align: top;\n",
              "    }\n",
              "\n",
              "    .dataframe thead th {\n",
              "        text-align: right;\n",
              "    }\n",
              "</style>\n",
              "<table border=\"1\" class=\"dataframe\">\n",
              "  <thead>\n",
              "    <tr style=\"text-align: right;\">\n",
              "      <th></th>\n",
              "      <th>texto</th>\n",
              "      <th>sentimiento</th>\n",
              "    </tr>\n",
              "  </thead>\n",
              "  <tbody>\n",
              "    <tr>\n",
              "      <th>0</th>\n",
              "      <td>ponente muy preparado, y nos ayudo a ver que m...</td>\n",
              "      <td>5</td>\n",
              "    </tr>\n",
              "    <tr>\n",
              "      <th>1</th>\n",
              "      <td>el módulo es bastante retador respecto a conte...</td>\n",
              "      <td>5</td>\n",
              "    </tr>\n",
              "    <tr>\n",
              "      <th>2</th>\n",
              "      <td>me ha encantado mucho este modulo, creo que se...</td>\n",
              "      <td>5</td>\n",
              "    </tr>\n",
              "    <tr>\n",
              "      <th>3</th>\n",
              "      <td>sería de ayuda tener códigos adicionales con m...</td>\n",
              "      <td>5</td>\n",
              "    </tr>\n",
              "    <tr>\n",
              "      <th>4</th>\n",
              "      <td>el profesor oscar es muy bueno. sabe dar muy b...</td>\n",
              "      <td>5</td>\n",
              "    </tr>\n",
              "  </tbody>\n",
              "</table>\n",
              "</div>\n",
              "      <button class=\"colab-df-convert\" onclick=\"convertToInteractive('df-2141049c-0b12-40d2-9e30-3010c5a7cd14')\"\n",
              "              title=\"Convert this dataframe to an interactive table.\"\n",
              "              style=\"display:none;\">\n",
              "        \n",
              "  <svg xmlns=\"http://www.w3.org/2000/svg\" height=\"24px\"viewBox=\"0 0 24 24\"\n",
              "       width=\"24px\">\n",
              "    <path d=\"M0 0h24v24H0V0z\" fill=\"none\"/>\n",
              "    <path d=\"M18.56 5.44l.94 2.06.94-2.06 2.06-.94-2.06-.94-.94-2.06-.94 2.06-2.06.94zm-11 1L8.5 8.5l.94-2.06 2.06-.94-2.06-.94L8.5 2.5l-.94 2.06-2.06.94zm10 10l.94 2.06.94-2.06 2.06-.94-2.06-.94-.94-2.06-.94 2.06-2.06.94z\"/><path d=\"M17.41 7.96l-1.37-1.37c-.4-.4-.92-.59-1.43-.59-.52 0-1.04.2-1.43.59L10.3 9.45l-7.72 7.72c-.78.78-.78 2.05 0 2.83L4 21.41c.39.39.9.59 1.41.59.51 0 1.02-.2 1.41-.59l7.78-7.78 2.81-2.81c.8-.78.8-2.07 0-2.86zM5.41 20L4 18.59l7.72-7.72 1.47 1.35L5.41 20z\"/>\n",
              "  </svg>\n",
              "      </button>\n",
              "      \n",
              "  <style>\n",
              "    .colab-df-container {\n",
              "      display:flex;\n",
              "      flex-wrap:wrap;\n",
              "      gap: 12px;\n",
              "    }\n",
              "\n",
              "    .colab-df-convert {\n",
              "      background-color: #E8F0FE;\n",
              "      border: none;\n",
              "      border-radius: 50%;\n",
              "      cursor: pointer;\n",
              "      display: none;\n",
              "      fill: #1967D2;\n",
              "      height: 32px;\n",
              "      padding: 0 0 0 0;\n",
              "      width: 32px;\n",
              "    }\n",
              "\n",
              "    .colab-df-convert:hover {\n",
              "      background-color: #E2EBFA;\n",
              "      box-shadow: 0px 1px 2px rgba(60, 64, 67, 0.3), 0px 1px 3px 1px rgba(60, 64, 67, 0.15);\n",
              "      fill: #174EA6;\n",
              "    }\n",
              "\n",
              "    [theme=dark] .colab-df-convert {\n",
              "      background-color: #3B4455;\n",
              "      fill: #D2E3FC;\n",
              "    }\n",
              "\n",
              "    [theme=dark] .colab-df-convert:hover {\n",
              "      background-color: #434B5C;\n",
              "      box-shadow: 0px 1px 3px 1px rgba(0, 0, 0, 0.15);\n",
              "      filter: drop-shadow(0px 1px 2px rgba(0, 0, 0, 0.3));\n",
              "      fill: #FFFFFF;\n",
              "    }\n",
              "  </style>\n",
              "\n",
              "      <script>\n",
              "        const buttonEl =\n",
              "          document.querySelector('#df-2141049c-0b12-40d2-9e30-3010c5a7cd14 button.colab-df-convert');\n",
              "        buttonEl.style.display =\n",
              "          google.colab.kernel.accessAllowed ? 'block' : 'none';\n",
              "\n",
              "        async function convertToInteractive(key) {\n",
              "          const element = document.querySelector('#df-2141049c-0b12-40d2-9e30-3010c5a7cd14');\n",
              "          const dataTable =\n",
              "            await google.colab.kernel.invokeFunction('convertToInteractive',\n",
              "                                                     [key], {});\n",
              "          if (!dataTable) return;\n",
              "\n",
              "          const docLinkHtml = 'Like what you see? Visit the ' +\n",
              "            '<a target=\"_blank\" href=https://colab.research.google.com/notebooks/data_table.ipynb>data table notebook</a>'\n",
              "            + ' to learn more about interactive tables.';\n",
              "          element.innerHTML = '';\n",
              "          dataTable['output_type'] = 'display_data';\n",
              "          await google.colab.output.renderOutput(dataTable, element);\n",
              "          const docLink = document.createElement('div');\n",
              "          docLink.innerHTML = docLinkHtml;\n",
              "          element.appendChild(docLink);\n",
              "        }\n",
              "      </script>\n",
              "    </div>\n",
              "  </div>\n",
              "  "
            ]
          },
          "metadata": {},
          "execution_count": 12
        }
      ],
      "source": [
        "df.head()"
      ]
    },
    {
      "cell_type": "markdown",
      "id": "accepted-disorder",
      "metadata": {
        "id": "accepted-disorder"
      },
      "source": [
        "### Quitar stopwords"
      ]
    },
    {
      "cell_type": "code",
      "source": [
        "import nltk\n",
        "nltk.download('stopwords')"
      ],
      "metadata": {
        "colab": {
          "base_uri": "https://localhost:8080/"
        },
        "id": "6OUNG00eSMFD",
        "outputId": "cf678e7d-9b3e-4f29-9b5f-4414400b5ad7"
      },
      "id": "6OUNG00eSMFD",
      "execution_count": null,
      "outputs": [
        {
          "output_type": "stream",
          "name": "stderr",
          "text": [
            "[nltk_data] Downloading package stopwords to /root/nltk_data...\n",
            "[nltk_data]   Unzipping corpora/stopwords.zip.\n"
          ]
        },
        {
          "output_type": "execute_result",
          "data": {
            "text/plain": [
              "True"
            ]
          },
          "metadata": {},
          "execution_count": 14
        }
      ]
    },
    {
      "cell_type": "code",
      "execution_count": null,
      "id": "injured-fight",
      "metadata": {
        "ExecuteTime": {
          "end_time": "2021-09-30T21:41:23.784238Z",
          "start_time": "2021-09-30T21:41:23.773314Z"
        },
        "id": "injured-fight"
      },
      "outputs": [],
      "source": [
        "STOP_WORDS = STOP_WORDS.union(set(stopwords.words('spanish')))"
      ]
    },
    {
      "cell_type": "code",
      "execution_count": null,
      "id": "killing-kernel",
      "metadata": {
        "ExecuteTime": {
          "end_time": "2021-09-30T21:41:24.247974Z",
          "start_time": "2021-09-30T21:41:24.225858Z"
        },
        "colab": {
          "base_uri": "https://localhost:8080/",
          "height": 206
        },
        "id": "killing-kernel",
        "outputId": "6d9af8f8-c106-4a96-8d53-088bee91de88"
      },
      "outputs": [
        {
          "output_type": "execute_result",
          "data": {
            "text/plain": [
              "                                               texto  sentimiento\n",
              "0  ponente preparado, ayudo cosas lograr herramie...            5\n",
              "1  módulo retador contenidos, goce tiempo clases ...            5\n",
              "2  encantado modulo, trabaja optima aprovecha tie...            5\n",
              "3       ayuda códigos adicionales ejemplos prácticos            5\n",
              "4  profesor oscar bueno. clases, ayuda estudiantes.             5"
            ],
            "text/html": [
              "\n",
              "  <div id=\"df-b96969e4-b7bf-4cbb-9ff5-46172f1aff27\">\n",
              "    <div class=\"colab-df-container\">\n",
              "      <div>\n",
              "<style scoped>\n",
              "    .dataframe tbody tr th:only-of-type {\n",
              "        vertical-align: middle;\n",
              "    }\n",
              "\n",
              "    .dataframe tbody tr th {\n",
              "        vertical-align: top;\n",
              "    }\n",
              "\n",
              "    .dataframe thead th {\n",
              "        text-align: right;\n",
              "    }\n",
              "</style>\n",
              "<table border=\"1\" class=\"dataframe\">\n",
              "  <thead>\n",
              "    <tr style=\"text-align: right;\">\n",
              "      <th></th>\n",
              "      <th>texto</th>\n",
              "      <th>sentimiento</th>\n",
              "    </tr>\n",
              "  </thead>\n",
              "  <tbody>\n",
              "    <tr>\n",
              "      <th>0</th>\n",
              "      <td>ponente preparado, ayudo cosas lograr herramie...</td>\n",
              "      <td>5</td>\n",
              "    </tr>\n",
              "    <tr>\n",
              "      <th>1</th>\n",
              "      <td>módulo retador contenidos, goce tiempo clases ...</td>\n",
              "      <td>5</td>\n",
              "    </tr>\n",
              "    <tr>\n",
              "      <th>2</th>\n",
              "      <td>encantado modulo, trabaja optima aprovecha tie...</td>\n",
              "      <td>5</td>\n",
              "    </tr>\n",
              "    <tr>\n",
              "      <th>3</th>\n",
              "      <td>ayuda códigos adicionales ejemplos prácticos</td>\n",
              "      <td>5</td>\n",
              "    </tr>\n",
              "    <tr>\n",
              "      <th>4</th>\n",
              "      <td>profesor oscar bueno. clases, ayuda estudiantes.</td>\n",
              "      <td>5</td>\n",
              "    </tr>\n",
              "  </tbody>\n",
              "</table>\n",
              "</div>\n",
              "      <button class=\"colab-df-convert\" onclick=\"convertToInteractive('df-b96969e4-b7bf-4cbb-9ff5-46172f1aff27')\"\n",
              "              title=\"Convert this dataframe to an interactive table.\"\n",
              "              style=\"display:none;\">\n",
              "        \n",
              "  <svg xmlns=\"http://www.w3.org/2000/svg\" height=\"24px\"viewBox=\"0 0 24 24\"\n",
              "       width=\"24px\">\n",
              "    <path d=\"M0 0h24v24H0V0z\" fill=\"none\"/>\n",
              "    <path d=\"M18.56 5.44l.94 2.06.94-2.06 2.06-.94-2.06-.94-.94-2.06-.94 2.06-2.06.94zm-11 1L8.5 8.5l.94-2.06 2.06-.94-2.06-.94L8.5 2.5l-.94 2.06-2.06.94zm10 10l.94 2.06.94-2.06 2.06-.94-2.06-.94-.94-2.06-.94 2.06-2.06.94z\"/><path d=\"M17.41 7.96l-1.37-1.37c-.4-.4-.92-.59-1.43-.59-.52 0-1.04.2-1.43.59L10.3 9.45l-7.72 7.72c-.78.78-.78 2.05 0 2.83L4 21.41c.39.39.9.59 1.41.59.51 0 1.02-.2 1.41-.59l7.78-7.78 2.81-2.81c.8-.78.8-2.07 0-2.86zM5.41 20L4 18.59l7.72-7.72 1.47 1.35L5.41 20z\"/>\n",
              "  </svg>\n",
              "      </button>\n",
              "      \n",
              "  <style>\n",
              "    .colab-df-container {\n",
              "      display:flex;\n",
              "      flex-wrap:wrap;\n",
              "      gap: 12px;\n",
              "    }\n",
              "\n",
              "    .colab-df-convert {\n",
              "      background-color: #E8F0FE;\n",
              "      border: none;\n",
              "      border-radius: 50%;\n",
              "      cursor: pointer;\n",
              "      display: none;\n",
              "      fill: #1967D2;\n",
              "      height: 32px;\n",
              "      padding: 0 0 0 0;\n",
              "      width: 32px;\n",
              "    }\n",
              "\n",
              "    .colab-df-convert:hover {\n",
              "      background-color: #E2EBFA;\n",
              "      box-shadow: 0px 1px 2px rgba(60, 64, 67, 0.3), 0px 1px 3px 1px rgba(60, 64, 67, 0.15);\n",
              "      fill: #174EA6;\n",
              "    }\n",
              "\n",
              "    [theme=dark] .colab-df-convert {\n",
              "      background-color: #3B4455;\n",
              "      fill: #D2E3FC;\n",
              "    }\n",
              "\n",
              "    [theme=dark] .colab-df-convert:hover {\n",
              "      background-color: #434B5C;\n",
              "      box-shadow: 0px 1px 3px 1px rgba(0, 0, 0, 0.15);\n",
              "      filter: drop-shadow(0px 1px 2px rgba(0, 0, 0, 0.3));\n",
              "      fill: #FFFFFF;\n",
              "    }\n",
              "  </style>\n",
              "\n",
              "      <script>\n",
              "        const buttonEl =\n",
              "          document.querySelector('#df-b96969e4-b7bf-4cbb-9ff5-46172f1aff27 button.colab-df-convert');\n",
              "        buttonEl.style.display =\n",
              "          google.colab.kernel.accessAllowed ? 'block' : 'none';\n",
              "\n",
              "        async function convertToInteractive(key) {\n",
              "          const element = document.querySelector('#df-b96969e4-b7bf-4cbb-9ff5-46172f1aff27');\n",
              "          const dataTable =\n",
              "            await google.colab.kernel.invokeFunction('convertToInteractive',\n",
              "                                                     [key], {});\n",
              "          if (!dataTable) return;\n",
              "\n",
              "          const docLinkHtml = 'Like what you see? Visit the ' +\n",
              "            '<a target=\"_blank\" href=https://colab.research.google.com/notebooks/data_table.ipynb>data table notebook</a>'\n",
              "            + ' to learn more about interactive tables.';\n",
              "          element.innerHTML = '';\n",
              "          dataTable['output_type'] = 'display_data';\n",
              "          await google.colab.output.renderOutput(dataTable, element);\n",
              "          const docLink = document.createElement('div');\n",
              "          docLink.innerHTML = docLinkHtml;\n",
              "          element.appendChild(docLink);\n",
              "        }\n",
              "      </script>\n",
              "    </div>\n",
              "  </div>\n",
              "  "
            ]
          },
          "metadata": {},
          "execution_count": 16
        }
      ],
      "source": [
        "df['texto'] = df['texto'].map(lambda x: [w for w in x.split(' ') if w not in STOP_WORDS]).apply(\" \".join)\n",
        "df.head()"
      ]
    },
    {
      "cell_type": "markdown",
      "id": "immediate-station",
      "metadata": {
        "id": "immediate-station"
      },
      "source": [
        "### Lematización (buscar la raíz de la palabra)"
      ]
    },
    {
      "cell_type": "code",
      "execution_count": null,
      "id": "saving-technician",
      "metadata": {
        "ExecuteTime": {
          "end_time": "2021-09-30T21:41:30.130097Z",
          "start_time": "2021-09-30T21:41:24.862444Z"
        },
        "colab": {
          "base_uri": "https://localhost:8080/"
        },
        "id": "saving-technician",
        "outputId": "21f9be4d-0c72-460a-81db-597403e60712"
      },
      "outputs": [
        {
          "output_type": "stream",
          "name": "stdout",
          "text": [
            "\u001b[38;5;2m✔ Download and installation successful\u001b[0m\n",
            "You can now load the package via spacy.load('es_core_news_sm')\n"
          ]
        }
      ],
      "source": [
        "spacy.cli.download(\"es_core_news_sm\")\n",
        "nlp = spacy.load('es_core_news_sm')"
      ]
    },
    {
      "cell_type": "code",
      "execution_count": null,
      "id": "civilian-lloyd",
      "metadata": {
        "ExecuteTime": {
          "end_time": "2021-09-30T21:41:33.314684Z",
          "start_time": "2021-09-30T21:41:30.131224Z"
        },
        "colab": {
          "base_uri": "https://localhost:8080/",
          "height": 206
        },
        "id": "civilian-lloyd",
        "outputId": "c9dc3edf-6ba2-48a3-9071-d0fab5f55c21"
      },
      "outputs": [
        {
          "output_type": "execute_result",
          "data": {
            "text/plain": [
              "                                               texto  sentimiento\n",
              "0  ponente preparado , ayudo cosa lograr herramie...            5\n",
              "1  módulo retador contenido , gocir tiempo clás p...            5\n",
              "2  encantado modulo , trabajar optimo aprovechar ...            5\n",
              "3           ayudar código adicional ejemplo práctico            5\n",
              "4  profesor oscar bueno . clase , ayuda estudiante .            5"
            ],
            "text/html": [
              "\n",
              "  <div id=\"df-a0eaba54-4a49-4de4-9598-586f8c964b17\">\n",
              "    <div class=\"colab-df-container\">\n",
              "      <div>\n",
              "<style scoped>\n",
              "    .dataframe tbody tr th:only-of-type {\n",
              "        vertical-align: middle;\n",
              "    }\n",
              "\n",
              "    .dataframe tbody tr th {\n",
              "        vertical-align: top;\n",
              "    }\n",
              "\n",
              "    .dataframe thead th {\n",
              "        text-align: right;\n",
              "    }\n",
              "</style>\n",
              "<table border=\"1\" class=\"dataframe\">\n",
              "  <thead>\n",
              "    <tr style=\"text-align: right;\">\n",
              "      <th></th>\n",
              "      <th>texto</th>\n",
              "      <th>sentimiento</th>\n",
              "    </tr>\n",
              "  </thead>\n",
              "  <tbody>\n",
              "    <tr>\n",
              "      <th>0</th>\n",
              "      <td>ponente preparado , ayudo cosa lograr herramie...</td>\n",
              "      <td>5</td>\n",
              "    </tr>\n",
              "    <tr>\n",
              "      <th>1</th>\n",
              "      <td>módulo retador contenido , gocir tiempo clás p...</td>\n",
              "      <td>5</td>\n",
              "    </tr>\n",
              "    <tr>\n",
              "      <th>2</th>\n",
              "      <td>encantado modulo , trabajar optimo aprovechar ...</td>\n",
              "      <td>5</td>\n",
              "    </tr>\n",
              "    <tr>\n",
              "      <th>3</th>\n",
              "      <td>ayudar código adicional ejemplo práctico</td>\n",
              "      <td>5</td>\n",
              "    </tr>\n",
              "    <tr>\n",
              "      <th>4</th>\n",
              "      <td>profesor oscar bueno . clase , ayuda estudiante .</td>\n",
              "      <td>5</td>\n",
              "    </tr>\n",
              "  </tbody>\n",
              "</table>\n",
              "</div>\n",
              "      <button class=\"colab-df-convert\" onclick=\"convertToInteractive('df-a0eaba54-4a49-4de4-9598-586f8c964b17')\"\n",
              "              title=\"Convert this dataframe to an interactive table.\"\n",
              "              style=\"display:none;\">\n",
              "        \n",
              "  <svg xmlns=\"http://www.w3.org/2000/svg\" height=\"24px\"viewBox=\"0 0 24 24\"\n",
              "       width=\"24px\">\n",
              "    <path d=\"M0 0h24v24H0V0z\" fill=\"none\"/>\n",
              "    <path d=\"M18.56 5.44l.94 2.06.94-2.06 2.06-.94-2.06-.94-.94-2.06-.94 2.06-2.06.94zm-11 1L8.5 8.5l.94-2.06 2.06-.94-2.06-.94L8.5 2.5l-.94 2.06-2.06.94zm10 10l.94 2.06.94-2.06 2.06-.94-2.06-.94-.94-2.06-.94 2.06-2.06.94z\"/><path d=\"M17.41 7.96l-1.37-1.37c-.4-.4-.92-.59-1.43-.59-.52 0-1.04.2-1.43.59L10.3 9.45l-7.72 7.72c-.78.78-.78 2.05 0 2.83L4 21.41c.39.39.9.59 1.41.59.51 0 1.02-.2 1.41-.59l7.78-7.78 2.81-2.81c.8-.78.8-2.07 0-2.86zM5.41 20L4 18.59l7.72-7.72 1.47 1.35L5.41 20z\"/>\n",
              "  </svg>\n",
              "      </button>\n",
              "      \n",
              "  <style>\n",
              "    .colab-df-container {\n",
              "      display:flex;\n",
              "      flex-wrap:wrap;\n",
              "      gap: 12px;\n",
              "    }\n",
              "\n",
              "    .colab-df-convert {\n",
              "      background-color: #E8F0FE;\n",
              "      border: none;\n",
              "      border-radius: 50%;\n",
              "      cursor: pointer;\n",
              "      display: none;\n",
              "      fill: #1967D2;\n",
              "      height: 32px;\n",
              "      padding: 0 0 0 0;\n",
              "      width: 32px;\n",
              "    }\n",
              "\n",
              "    .colab-df-convert:hover {\n",
              "      background-color: #E2EBFA;\n",
              "      box-shadow: 0px 1px 2px rgba(60, 64, 67, 0.3), 0px 1px 3px 1px rgba(60, 64, 67, 0.15);\n",
              "      fill: #174EA6;\n",
              "    }\n",
              "\n",
              "    [theme=dark] .colab-df-convert {\n",
              "      background-color: #3B4455;\n",
              "      fill: #D2E3FC;\n",
              "    }\n",
              "\n",
              "    [theme=dark] .colab-df-convert:hover {\n",
              "      background-color: #434B5C;\n",
              "      box-shadow: 0px 1px 3px 1px rgba(0, 0, 0, 0.15);\n",
              "      filter: drop-shadow(0px 1px 2px rgba(0, 0, 0, 0.3));\n",
              "      fill: #FFFFFF;\n",
              "    }\n",
              "  </style>\n",
              "\n",
              "      <script>\n",
              "        const buttonEl =\n",
              "          document.querySelector('#df-a0eaba54-4a49-4de4-9598-586f8c964b17 button.colab-df-convert');\n",
              "        buttonEl.style.display =\n",
              "          google.colab.kernel.accessAllowed ? 'block' : 'none';\n",
              "\n",
              "        async function convertToInteractive(key) {\n",
              "          const element = document.querySelector('#df-a0eaba54-4a49-4de4-9598-586f8c964b17');\n",
              "          const dataTable =\n",
              "            await google.colab.kernel.invokeFunction('convertToInteractive',\n",
              "                                                     [key], {});\n",
              "          if (!dataTable) return;\n",
              "\n",
              "          const docLinkHtml = 'Like what you see? Visit the ' +\n",
              "            '<a target=\"_blank\" href=https://colab.research.google.com/notebooks/data_table.ipynb>data table notebook</a>'\n",
              "            + ' to learn more about interactive tables.';\n",
              "          element.innerHTML = '';\n",
              "          dataTable['output_type'] = 'display_data';\n",
              "          await google.colab.output.renderOutput(dataTable, element);\n",
              "          const docLink = document.createElement('div');\n",
              "          docLink.innerHTML = docLinkHtml;\n",
              "          element.appendChild(docLink);\n",
              "        }\n",
              "      </script>\n",
              "    </div>\n",
              "  </div>\n",
              "  "
            ]
          },
          "metadata": {},
          "execution_count": 19
        }
      ],
      "source": [
        "df['texto'] = df['texto'].map(nlp).map(lambda x:[w.lemma_ for w in x]).apply(\" \".join)\n",
        "df.head()"
      ]
    },
    {
      "cell_type": "markdown",
      "id": "attended-portland",
      "metadata": {
        "id": "attended-portland"
      },
      "source": [
        "### Quitar puntuación"
      ]
    },
    {
      "cell_type": "code",
      "execution_count": null,
      "id": "miniature-essex",
      "metadata": {
        "ExecuteTime": {
          "end_time": "2021-09-30T21:41:33.321104Z",
          "start_time": "2021-09-30T21:41:33.315847Z"
        },
        "id": "miniature-essex"
      },
      "outputs": [],
      "source": [
        "\"\"\"\n",
        "re.sub: Patrón, sustitución, texto, juego de caracteres\n",
        "\n",
        "r' --> Raw String\n",
        "^ -->  Empieza por..\n",
        "\\w --> alfanuméricos\n",
        "\\s --> espacios\n",
        "[] --> Incluír solo los caracteres del patrón indicado\n",
        "\"\"\"\n",
        "\n",
        "df['texto'] = df['texto'].map(lambda x:re.sub(r'[^\\w\\s]','',x, re.UNICODE))"
      ]
    },
    {
      "cell_type": "code",
      "execution_count": null,
      "id": "demographic-seminar",
      "metadata": {
        "colab": {
          "base_uri": "https://localhost:8080/",
          "height": 206
        },
        "id": "demographic-seminar",
        "outputId": "4cbd2426-aab3-4b1e-c5c6-1a966a19b4b4"
      },
      "outputs": [
        {
          "output_type": "execute_result",
          "data": {
            "text/plain": [
              "                                               texto  sentimiento\n",
              "0  ponente preparado  ayudo cosa lograr herramien...            5\n",
              "1  módulo retador contenido  gocir tiempo clás pa...            5\n",
              "2  encantado modulo  trabajar optimo aprovechar t...            5\n",
              "3           ayudar código adicional ejemplo práctico            5\n",
              "4     profesor oscar bueno  clase  ayuda estudiante             5"
            ],
            "text/html": [
              "\n",
              "  <div id=\"df-bb9661ef-69b2-458c-819e-09d843d82731\">\n",
              "    <div class=\"colab-df-container\">\n",
              "      <div>\n",
              "<style scoped>\n",
              "    .dataframe tbody tr th:only-of-type {\n",
              "        vertical-align: middle;\n",
              "    }\n",
              "\n",
              "    .dataframe tbody tr th {\n",
              "        vertical-align: top;\n",
              "    }\n",
              "\n",
              "    .dataframe thead th {\n",
              "        text-align: right;\n",
              "    }\n",
              "</style>\n",
              "<table border=\"1\" class=\"dataframe\">\n",
              "  <thead>\n",
              "    <tr style=\"text-align: right;\">\n",
              "      <th></th>\n",
              "      <th>texto</th>\n",
              "      <th>sentimiento</th>\n",
              "    </tr>\n",
              "  </thead>\n",
              "  <tbody>\n",
              "    <tr>\n",
              "      <th>0</th>\n",
              "      <td>ponente preparado  ayudo cosa lograr herramien...</td>\n",
              "      <td>5</td>\n",
              "    </tr>\n",
              "    <tr>\n",
              "      <th>1</th>\n",
              "      <td>módulo retador contenido  gocir tiempo clás pa...</td>\n",
              "      <td>5</td>\n",
              "    </tr>\n",
              "    <tr>\n",
              "      <th>2</th>\n",
              "      <td>encantado modulo  trabajar optimo aprovechar t...</td>\n",
              "      <td>5</td>\n",
              "    </tr>\n",
              "    <tr>\n",
              "      <th>3</th>\n",
              "      <td>ayudar código adicional ejemplo práctico</td>\n",
              "      <td>5</td>\n",
              "    </tr>\n",
              "    <tr>\n",
              "      <th>4</th>\n",
              "      <td>profesor oscar bueno  clase  ayuda estudiante</td>\n",
              "      <td>5</td>\n",
              "    </tr>\n",
              "  </tbody>\n",
              "</table>\n",
              "</div>\n",
              "      <button class=\"colab-df-convert\" onclick=\"convertToInteractive('df-bb9661ef-69b2-458c-819e-09d843d82731')\"\n",
              "              title=\"Convert this dataframe to an interactive table.\"\n",
              "              style=\"display:none;\">\n",
              "        \n",
              "  <svg xmlns=\"http://www.w3.org/2000/svg\" height=\"24px\"viewBox=\"0 0 24 24\"\n",
              "       width=\"24px\">\n",
              "    <path d=\"M0 0h24v24H0V0z\" fill=\"none\"/>\n",
              "    <path d=\"M18.56 5.44l.94 2.06.94-2.06 2.06-.94-2.06-.94-.94-2.06-.94 2.06-2.06.94zm-11 1L8.5 8.5l.94-2.06 2.06-.94-2.06-.94L8.5 2.5l-.94 2.06-2.06.94zm10 10l.94 2.06.94-2.06 2.06-.94-2.06-.94-.94-2.06-.94 2.06-2.06.94z\"/><path d=\"M17.41 7.96l-1.37-1.37c-.4-.4-.92-.59-1.43-.59-.52 0-1.04.2-1.43.59L10.3 9.45l-7.72 7.72c-.78.78-.78 2.05 0 2.83L4 21.41c.39.39.9.59 1.41.59.51 0 1.02-.2 1.41-.59l7.78-7.78 2.81-2.81c.8-.78.8-2.07 0-2.86zM5.41 20L4 18.59l7.72-7.72 1.47 1.35L5.41 20z\"/>\n",
              "  </svg>\n",
              "      </button>\n",
              "      \n",
              "  <style>\n",
              "    .colab-df-container {\n",
              "      display:flex;\n",
              "      flex-wrap:wrap;\n",
              "      gap: 12px;\n",
              "    }\n",
              "\n",
              "    .colab-df-convert {\n",
              "      background-color: #E8F0FE;\n",
              "      border: none;\n",
              "      border-radius: 50%;\n",
              "      cursor: pointer;\n",
              "      display: none;\n",
              "      fill: #1967D2;\n",
              "      height: 32px;\n",
              "      padding: 0 0 0 0;\n",
              "      width: 32px;\n",
              "    }\n",
              "\n",
              "    .colab-df-convert:hover {\n",
              "      background-color: #E2EBFA;\n",
              "      box-shadow: 0px 1px 2px rgba(60, 64, 67, 0.3), 0px 1px 3px 1px rgba(60, 64, 67, 0.15);\n",
              "      fill: #174EA6;\n",
              "    }\n",
              "\n",
              "    [theme=dark] .colab-df-convert {\n",
              "      background-color: #3B4455;\n",
              "      fill: #D2E3FC;\n",
              "    }\n",
              "\n",
              "    [theme=dark] .colab-df-convert:hover {\n",
              "      background-color: #434B5C;\n",
              "      box-shadow: 0px 1px 3px 1px rgba(0, 0, 0, 0.15);\n",
              "      filter: drop-shadow(0px 1px 2px rgba(0, 0, 0, 0.3));\n",
              "      fill: #FFFFFF;\n",
              "    }\n",
              "  </style>\n",
              "\n",
              "      <script>\n",
              "        const buttonEl =\n",
              "          document.querySelector('#df-bb9661ef-69b2-458c-819e-09d843d82731 button.colab-df-convert');\n",
              "        buttonEl.style.display =\n",
              "          google.colab.kernel.accessAllowed ? 'block' : 'none';\n",
              "\n",
              "        async function convertToInteractive(key) {\n",
              "          const element = document.querySelector('#df-bb9661ef-69b2-458c-819e-09d843d82731');\n",
              "          const dataTable =\n",
              "            await google.colab.kernel.invokeFunction('convertToInteractive',\n",
              "                                                     [key], {});\n",
              "          if (!dataTable) return;\n",
              "\n",
              "          const docLinkHtml = 'Like what you see? Visit the ' +\n",
              "            '<a target=\"_blank\" href=https://colab.research.google.com/notebooks/data_table.ipynb>data table notebook</a>'\n",
              "            + ' to learn more about interactive tables.';\n",
              "          element.innerHTML = '';\n",
              "          dataTable['output_type'] = 'display_data';\n",
              "          await google.colab.output.renderOutput(dataTable, element);\n",
              "          const docLink = document.createElement('div');\n",
              "          docLink.innerHTML = docLinkHtml;\n",
              "          element.appendChild(docLink);\n",
              "        }\n",
              "      </script>\n",
              "    </div>\n",
              "  </div>\n",
              "  "
            ]
          },
          "metadata": {},
          "execution_count": 21
        }
      ],
      "source": [
        "df.head()"
      ]
    },
    {
      "cell_type": "markdown",
      "id": "secret-electronics",
      "metadata": {
        "id": "secret-electronics"
      },
      "source": [
        "### Quitar hapaxes (tokens con frecuencia 1)"
      ]
    },
    {
      "cell_type": "code",
      "execution_count": null,
      "id": "thorough-vintage",
      "metadata": {
        "ExecuteTime": {
          "end_time": "2021-09-30T21:41:33.523194Z",
          "start_time": "2021-09-30T21:41:33.322691Z"
        },
        "id": "thorough-vintage"
      },
      "outputs": [],
      "source": [
        "conteos = Counter(reduce(lambda x,y:x+y,df['texto'].map(lambda x:x.split(' '))))"
      ]
    },
    {
      "cell_type": "code",
      "execution_count": null,
      "id": "sixth-usage",
      "metadata": {
        "ExecuteTime": {
          "end_time": "2021-09-30T21:41:33.774351Z",
          "start_time": "2021-09-30T21:41:33.525021Z"
        },
        "colab": {
          "base_uri": "https://localhost:8080/",
          "height": 206
        },
        "id": "sixth-usage",
        "outputId": "6cba3201-ef66-4bd6-efcc-22a7bd8d5f04"
      },
      "outputs": [
        {
          "output_type": "execute_result",
          "data": {
            "text/plain": [
              "                                               texto  sentimiento\n",
              "0    ponente preparado ayudo cosa lograr herramienta            5\n",
              "1  módulo retador contenido tiempo clás pasión pr...            5\n",
              "2  modulo trabajar aprovechar tiempo dinámica peq...            5\n",
              "3           ayudar código adicional ejemplo práctico            5\n",
              "4                   profesor oscar bueno clase ayuda            5"
            ],
            "text/html": [
              "\n",
              "  <div id=\"df-3d53c6e7-a549-4837-902b-57856501d468\">\n",
              "    <div class=\"colab-df-container\">\n",
              "      <div>\n",
              "<style scoped>\n",
              "    .dataframe tbody tr th:only-of-type {\n",
              "        vertical-align: middle;\n",
              "    }\n",
              "\n",
              "    .dataframe tbody tr th {\n",
              "        vertical-align: top;\n",
              "    }\n",
              "\n",
              "    .dataframe thead th {\n",
              "        text-align: right;\n",
              "    }\n",
              "</style>\n",
              "<table border=\"1\" class=\"dataframe\">\n",
              "  <thead>\n",
              "    <tr style=\"text-align: right;\">\n",
              "      <th></th>\n",
              "      <th>texto</th>\n",
              "      <th>sentimiento</th>\n",
              "    </tr>\n",
              "  </thead>\n",
              "  <tbody>\n",
              "    <tr>\n",
              "      <th>0</th>\n",
              "      <td>ponente preparado ayudo cosa lograr herramienta</td>\n",
              "      <td>5</td>\n",
              "    </tr>\n",
              "    <tr>\n",
              "      <th>1</th>\n",
              "      <td>módulo retador contenido tiempo clás pasión pr...</td>\n",
              "      <td>5</td>\n",
              "    </tr>\n",
              "    <tr>\n",
              "      <th>2</th>\n",
              "      <td>modulo trabajar aprovechar tiempo dinámica peq...</td>\n",
              "      <td>5</td>\n",
              "    </tr>\n",
              "    <tr>\n",
              "      <th>3</th>\n",
              "      <td>ayudar código adicional ejemplo práctico</td>\n",
              "      <td>5</td>\n",
              "    </tr>\n",
              "    <tr>\n",
              "      <th>4</th>\n",
              "      <td>profesor oscar bueno clase ayuda</td>\n",
              "      <td>5</td>\n",
              "    </tr>\n",
              "  </tbody>\n",
              "</table>\n",
              "</div>\n",
              "      <button class=\"colab-df-convert\" onclick=\"convertToInteractive('df-3d53c6e7-a549-4837-902b-57856501d468')\"\n",
              "              title=\"Convert this dataframe to an interactive table.\"\n",
              "              style=\"display:none;\">\n",
              "        \n",
              "  <svg xmlns=\"http://www.w3.org/2000/svg\" height=\"24px\"viewBox=\"0 0 24 24\"\n",
              "       width=\"24px\">\n",
              "    <path d=\"M0 0h24v24H0V0z\" fill=\"none\"/>\n",
              "    <path d=\"M18.56 5.44l.94 2.06.94-2.06 2.06-.94-2.06-.94-.94-2.06-.94 2.06-2.06.94zm-11 1L8.5 8.5l.94-2.06 2.06-.94-2.06-.94L8.5 2.5l-.94 2.06-2.06.94zm10 10l.94 2.06.94-2.06 2.06-.94-2.06-.94-.94-2.06-.94 2.06-2.06.94z\"/><path d=\"M17.41 7.96l-1.37-1.37c-.4-.4-.92-.59-1.43-.59-.52 0-1.04.2-1.43.59L10.3 9.45l-7.72 7.72c-.78.78-.78 2.05 0 2.83L4 21.41c.39.39.9.59 1.41.59.51 0 1.02-.2 1.41-.59l7.78-7.78 2.81-2.81c.8-.78.8-2.07 0-2.86zM5.41 20L4 18.59l7.72-7.72 1.47 1.35L5.41 20z\"/>\n",
              "  </svg>\n",
              "      </button>\n",
              "      \n",
              "  <style>\n",
              "    .colab-df-container {\n",
              "      display:flex;\n",
              "      flex-wrap:wrap;\n",
              "      gap: 12px;\n",
              "    }\n",
              "\n",
              "    .colab-df-convert {\n",
              "      background-color: #E8F0FE;\n",
              "      border: none;\n",
              "      border-radius: 50%;\n",
              "      cursor: pointer;\n",
              "      display: none;\n",
              "      fill: #1967D2;\n",
              "      height: 32px;\n",
              "      padding: 0 0 0 0;\n",
              "      width: 32px;\n",
              "    }\n",
              "\n",
              "    .colab-df-convert:hover {\n",
              "      background-color: #E2EBFA;\n",
              "      box-shadow: 0px 1px 2px rgba(60, 64, 67, 0.3), 0px 1px 3px 1px rgba(60, 64, 67, 0.15);\n",
              "      fill: #174EA6;\n",
              "    }\n",
              "\n",
              "    [theme=dark] .colab-df-convert {\n",
              "      background-color: #3B4455;\n",
              "      fill: #D2E3FC;\n",
              "    }\n",
              "\n",
              "    [theme=dark] .colab-df-convert:hover {\n",
              "      background-color: #434B5C;\n",
              "      box-shadow: 0px 1px 3px 1px rgba(0, 0, 0, 0.15);\n",
              "      filter: drop-shadow(0px 1px 2px rgba(0, 0, 0, 0.3));\n",
              "      fill: #FFFFFF;\n",
              "    }\n",
              "  </style>\n",
              "\n",
              "      <script>\n",
              "        const buttonEl =\n",
              "          document.querySelector('#df-3d53c6e7-a549-4837-902b-57856501d468 button.colab-df-convert');\n",
              "        buttonEl.style.display =\n",
              "          google.colab.kernel.accessAllowed ? 'block' : 'none';\n",
              "\n",
              "        async function convertToInteractive(key) {\n",
              "          const element = document.querySelector('#df-3d53c6e7-a549-4837-902b-57856501d468');\n",
              "          const dataTable =\n",
              "            await google.colab.kernel.invokeFunction('convertToInteractive',\n",
              "                                                     [key], {});\n",
              "          if (!dataTable) return;\n",
              "\n",
              "          const docLinkHtml = 'Like what you see? Visit the ' +\n",
              "            '<a target=\"_blank\" href=https://colab.research.google.com/notebooks/data_table.ipynb>data table notebook</a>'\n",
              "            + ' to learn more about interactive tables.';\n",
              "          element.innerHTML = '';\n",
              "          dataTable['output_type'] = 'display_data';\n",
              "          await google.colab.output.renderOutput(dataTable, element);\n",
              "          const docLink = document.createElement('div');\n",
              "          docLink.innerHTML = docLinkHtml;\n",
              "          element.appendChild(docLink);\n",
              "        }\n",
              "      </script>\n",
              "    </div>\n",
              "  </div>\n",
              "  "
            ]
          },
          "metadata": {},
          "execution_count": 24
        }
      ],
      "source": [
        "hapaxes = [t for t,count in conteos.items() if count == 1 or t == '']\n",
        "df['texto'] = df['texto'].map(lambda x:[w for w in x.split(' ') if w not in hapaxes]).apply(\" \".join)\n",
        "df.head()"
      ]
    },
    {
      "cell_type": "markdown",
      "id": "infectious-hunter",
      "metadata": {
        "id": "infectious-hunter"
      },
      "source": [
        "## Tokenizar texto en tensores"
      ]
    },
    {
      "cell_type": "markdown",
      "id": "sonic-compatibility",
      "metadata": {
        "id": "sonic-compatibility"
      },
      "source": [
        "### Tamaño del vocabulario"
      ]
    },
    {
      "cell_type": "code",
      "execution_count": null,
      "id": "linear-compression",
      "metadata": {
        "ExecuteTime": {
          "end_time": "2021-09-30T21:41:33.828743Z",
          "start_time": "2021-09-30T21:41:33.775365Z"
        },
        "colab": {
          "base_uri": "https://localhost:8080/",
          "height": 300
        },
        "id": "linear-compression",
        "outputId": "f7ad61ee-7bb7-498d-be76-cf3342506dc5"
      },
      "outputs": [
        {
          "output_type": "execute_result",
          "data": {
            "text/plain": [
              "            count         pct\n",
              "count  483.000000  483.000000\n",
              "mean     6.834369    0.002070\n",
              "std     11.809760    0.003578\n",
              "min      2.000000    0.000606\n",
              "25%      2.000000    0.000606\n",
              "50%      3.000000    0.000909\n",
              "75%      7.000000    0.002121\n",
              "max    144.000000    0.043623"
            ],
            "text/html": [
              "\n",
              "  <div id=\"df-5b085318-097a-4812-981a-3662fc701a24\">\n",
              "    <div class=\"colab-df-container\">\n",
              "      <div>\n",
              "<style scoped>\n",
              "    .dataframe tbody tr th:only-of-type {\n",
              "        vertical-align: middle;\n",
              "    }\n",
              "\n",
              "    .dataframe tbody tr th {\n",
              "        vertical-align: top;\n",
              "    }\n",
              "\n",
              "    .dataframe thead th {\n",
              "        text-align: right;\n",
              "    }\n",
              "</style>\n",
              "<table border=\"1\" class=\"dataframe\">\n",
              "  <thead>\n",
              "    <tr style=\"text-align: right;\">\n",
              "      <th></th>\n",
              "      <th>count</th>\n",
              "      <th>pct</th>\n",
              "    </tr>\n",
              "  </thead>\n",
              "  <tbody>\n",
              "    <tr>\n",
              "      <th>count</th>\n",
              "      <td>483.000000</td>\n",
              "      <td>483.000000</td>\n",
              "    </tr>\n",
              "    <tr>\n",
              "      <th>mean</th>\n",
              "      <td>6.834369</td>\n",
              "      <td>0.002070</td>\n",
              "    </tr>\n",
              "    <tr>\n",
              "      <th>std</th>\n",
              "      <td>11.809760</td>\n",
              "      <td>0.003578</td>\n",
              "    </tr>\n",
              "    <tr>\n",
              "      <th>min</th>\n",
              "      <td>2.000000</td>\n",
              "      <td>0.000606</td>\n",
              "    </tr>\n",
              "    <tr>\n",
              "      <th>25%</th>\n",
              "      <td>2.000000</td>\n",
              "      <td>0.000606</td>\n",
              "    </tr>\n",
              "    <tr>\n",
              "      <th>50%</th>\n",
              "      <td>3.000000</td>\n",
              "      <td>0.000909</td>\n",
              "    </tr>\n",
              "    <tr>\n",
              "      <th>75%</th>\n",
              "      <td>7.000000</td>\n",
              "      <td>0.002121</td>\n",
              "    </tr>\n",
              "    <tr>\n",
              "      <th>max</th>\n",
              "      <td>144.000000</td>\n",
              "      <td>0.043623</td>\n",
              "    </tr>\n",
              "  </tbody>\n",
              "</table>\n",
              "</div>\n",
              "      <button class=\"colab-df-convert\" onclick=\"convertToInteractive('df-5b085318-097a-4812-981a-3662fc701a24')\"\n",
              "              title=\"Convert this dataframe to an interactive table.\"\n",
              "              style=\"display:none;\">\n",
              "        \n",
              "  <svg xmlns=\"http://www.w3.org/2000/svg\" height=\"24px\"viewBox=\"0 0 24 24\"\n",
              "       width=\"24px\">\n",
              "    <path d=\"M0 0h24v24H0V0z\" fill=\"none\"/>\n",
              "    <path d=\"M18.56 5.44l.94 2.06.94-2.06 2.06-.94-2.06-.94-.94-2.06-.94 2.06-2.06.94zm-11 1L8.5 8.5l.94-2.06 2.06-.94-2.06-.94L8.5 2.5l-.94 2.06-2.06.94zm10 10l.94 2.06.94-2.06 2.06-.94-2.06-.94-.94-2.06-.94 2.06-2.06.94z\"/><path d=\"M17.41 7.96l-1.37-1.37c-.4-.4-.92-.59-1.43-.59-.52 0-1.04.2-1.43.59L10.3 9.45l-7.72 7.72c-.78.78-.78 2.05 0 2.83L4 21.41c.39.39.9.59 1.41.59.51 0 1.02-.2 1.41-.59l7.78-7.78 2.81-2.81c.8-.78.8-2.07 0-2.86zM5.41 20L4 18.59l7.72-7.72 1.47 1.35L5.41 20z\"/>\n",
              "  </svg>\n",
              "      </button>\n",
              "      \n",
              "  <style>\n",
              "    .colab-df-container {\n",
              "      display:flex;\n",
              "      flex-wrap:wrap;\n",
              "      gap: 12px;\n",
              "    }\n",
              "\n",
              "    .colab-df-convert {\n",
              "      background-color: #E8F0FE;\n",
              "      border: none;\n",
              "      border-radius: 50%;\n",
              "      cursor: pointer;\n",
              "      display: none;\n",
              "      fill: #1967D2;\n",
              "      height: 32px;\n",
              "      padding: 0 0 0 0;\n",
              "      width: 32px;\n",
              "    }\n",
              "\n",
              "    .colab-df-convert:hover {\n",
              "      background-color: #E2EBFA;\n",
              "      box-shadow: 0px 1px 2px rgba(60, 64, 67, 0.3), 0px 1px 3px 1px rgba(60, 64, 67, 0.15);\n",
              "      fill: #174EA6;\n",
              "    }\n",
              "\n",
              "    [theme=dark] .colab-df-convert {\n",
              "      background-color: #3B4455;\n",
              "      fill: #D2E3FC;\n",
              "    }\n",
              "\n",
              "    [theme=dark] .colab-df-convert:hover {\n",
              "      background-color: #434B5C;\n",
              "      box-shadow: 0px 1px 3px 1px rgba(0, 0, 0, 0.15);\n",
              "      filter: drop-shadow(0px 1px 2px rgba(0, 0, 0, 0.3));\n",
              "      fill: #FFFFFF;\n",
              "    }\n",
              "  </style>\n",
              "\n",
              "      <script>\n",
              "        const buttonEl =\n",
              "          document.querySelector('#df-5b085318-097a-4812-981a-3662fc701a24 button.colab-df-convert');\n",
              "        buttonEl.style.display =\n",
              "          google.colab.kernel.accessAllowed ? 'block' : 'none';\n",
              "\n",
              "        async function convertToInteractive(key) {\n",
              "          const element = document.querySelector('#df-5b085318-097a-4812-981a-3662fc701a24');\n",
              "          const dataTable =\n",
              "            await google.colab.kernel.invokeFunction('convertToInteractive',\n",
              "                                                     [key], {});\n",
              "          if (!dataTable) return;\n",
              "\n",
              "          const docLinkHtml = 'Like what you see? Visit the ' +\n",
              "            '<a target=\"_blank\" href=https://colab.research.google.com/notebooks/data_table.ipynb>data table notebook</a>'\n",
              "            + ' to learn more about interactive tables.';\n",
              "          element.innerHTML = '';\n",
              "          dataTable['output_type'] = 'display_data';\n",
              "          await google.colab.output.renderOutput(dataTable, element);\n",
              "          const docLink = document.createElement('div');\n",
              "          docLink.innerHTML = docLinkHtml;\n",
              "          element.appendChild(docLink);\n",
              "        }\n",
              "      </script>\n",
              "    </div>\n",
              "  </div>\n",
              "  "
            ]
          },
          "metadata": {},
          "execution_count": 25
        }
      ],
      "source": [
        "vocab = pd.Series(Counter(reduce(lambda x,y:x+y,df['texto'].map(lambda x:x.split(' '))))).sort_values(ascending=False).to_frame()\n",
        "vocab.reset_index(inplace=True)\n",
        "vocab.columns = ['token','count']\n",
        "vocab['pct'] = vocab['count']/vocab['count'].sum()\n",
        "vocab.describe()"
      ]
    },
    {
      "cell_type": "markdown",
      "id": "nutritional-cholesterol",
      "metadata": {
        "id": "nutritional-cholesterol"
      },
      "source": [
        "### Tokenizar"
      ]
    },
    {
      "cell_type": "code",
      "execution_count": null,
      "id": "danish-vaccine",
      "metadata": {
        "ExecuteTime": {
          "end_time": "2021-09-30T21:53:00.163102Z",
          "start_time": "2021-09-30T21:53:00.134448Z"
        },
        "colab": {
          "base_uri": "https://localhost:8080/"
        },
        "id": "danish-vaccine",
        "outputId": "3effe8a7-cf4b-41cf-b2d9-b0f7fd5b4a2a"
      },
      "outputs": [
        {
          "output_type": "execute_result",
          "data": {
            "text/plain": [
              "(271, 63)"
            ]
          },
          "metadata": {},
          "execution_count": 26
        }
      ],
      "source": [
        "tk = tf.keras.preprocessing.text.Tokenizer(num_words=300, lower=True,split=' ')\n",
        "tk.fit_on_texts(df['texto'])\n",
        "X = tk.texts_to_sequences(df['texto'])\n",
        "X = tf.keras.preprocessing.sequence.pad_sequences(X)\n",
        "X.shape"
      ]
    },
    {
      "cell_type": "markdown",
      "id": "quiet-payroll",
      "metadata": {
        "id": "quiet-payroll"
      },
      "source": [
        "## Variable Objetivo"
      ]
    },
    {
      "cell_type": "code",
      "execution_count": null,
      "id": "rubber-reverse",
      "metadata": {
        "colab": {
          "base_uri": "https://localhost:8080/"
        },
        "id": "rubber-reverse",
        "outputId": "972b8706-89e5-4fde-8cff-2370e187ba69"
      },
      "outputs": [
        {
          "output_type": "execute_result",
          "data": {
            "text/plain": [
              "5    0.730627\n",
              "4    0.210332\n",
              "3    0.047970\n",
              "2    0.007380\n",
              "1    0.003690\n",
              "Name: sentimiento, dtype: float64"
            ]
          },
          "metadata": {},
          "execution_count": 27
        }
      ],
      "source": [
        "df['sentimiento'].value_counts(1).sort_index(ascending=False)"
      ]
    },
    {
      "cell_type": "code",
      "execution_count": null,
      "id": "attempted-island",
      "metadata": {
        "ExecuteTime": {
          "end_time": "2021-09-30T21:42:34.274285Z",
          "start_time": "2021-09-30T21:42:34.262483Z"
        },
        "colab": {
          "base_uri": "https://localhost:8080/"
        },
        "id": "attempted-island",
        "outputId": "ebf10a73-b23e-4a70-dea8-0dc69864ccb0"
      },
      "outputs": [
        {
          "output_type": "execute_result",
          "data": {
            "text/plain": [
              "0.05904059040590406"
            ]
          },
          "metadata": {},
          "execution_count": 28
        }
      ],
      "source": [
        "\n",
        "y = np.array(df['sentimiento']<4).astype(int)\n",
        "\n",
        "y.mean()"
      ]
    },
    {
      "cell_type": "markdown",
      "id": "clear-arcade",
      "metadata": {
        "id": "clear-arcade"
      },
      "source": [
        "## Partición para entrenamiento"
      ]
    },
    {
      "cell_type": "code",
      "execution_count": null,
      "id": "constant-reaction",
      "metadata": {
        "ExecuteTime": {
          "end_time": "2021-09-30T21:42:37.706581Z",
          "start_time": "2021-09-30T21:42:37.689975Z"
        },
        "colab": {
          "base_uri": "https://localhost:8080/"
        },
        "id": "constant-reaction",
        "outputId": "1c42bd5f-74e1-4462-fc55-d0ca06a6fb17"
      },
      "outputs": [
        {
          "output_type": "execute_result",
          "data": {
            "text/plain": [
              "((216, 63), (55, 63))"
            ]
          },
          "metadata": {},
          "execution_count": 29
        }
      ],
      "source": [
        "Xt,Xv,yt,yv = train_test_split(X,y,train_size=0.8)\n",
        "Xt.shape,Xv.shape"
      ]
    },
    {
      "cell_type": "markdown",
      "id": "urban-rating",
      "metadata": {
        "id": "urban-rating"
      },
      "source": [
        "## Configuración entrenamiento"
      ]
    },
    {
      "cell_type": "code",
      "execution_count": null,
      "id": "afraid-backup",
      "metadata": {
        "ExecuteTime": {
          "end_time": "2021-09-30T21:42:41.164545Z",
          "start_time": "2021-09-30T21:42:40.580633Z"
        },
        "colab": {
          "base_uri": "https://localhost:8080/"
        },
        "id": "afraid-backup",
        "outputId": "5a285d9f-1280-4d35-cc9d-1274be664f7d"
      },
      "outputs": [
        {
          "output_type": "stream",
          "name": "stderr",
          "text": [
            "WARNING:tensorflow:Layer lstm_1 will not use cuDNN kernels since it doesn't meet the criteria. It will use a generic GPU kernel as fallback when running on GPU.\n"
          ]
        },
        {
          "output_type": "stream",
          "name": "stdout",
          "text": [
            "480\n",
            "Model: \"sequential_1\"\n",
            "_________________________________________________________________\n",
            " Layer (type)                Output Shape              Param #   \n",
            "=================================================================\n",
            " embedding_1 (Embedding)     (None, 63, 10)            4800      \n",
            "                                                                 \n",
            " spatial_dropout1d_1 (Spatia  (None, 63, 10)           0         \n",
            " lDropout1D)                                                     \n",
            "                                                                 \n",
            " lstm_1 (LSTM)               (None, 10)                840       \n",
            "                                                                 \n",
            " dropout_1 (Dropout)         (None, 10)                0         \n",
            "                                                                 \n",
            " dense_1 (Dense)             (None, 1)                 11        \n",
            "                                                                 \n",
            "=================================================================\n",
            "Total params: 5,651\n",
            "Trainable params: 5,651\n",
            "Non-trainable params: 0\n",
            "_________________________________________________________________\n",
            "None\n"
          ]
        }
      ],
      "source": [
        "tam_vocab = len(tk.word_index)\n",
        "print(tam_vocab)\n",
        "tam_vector_embed = 10\n",
        "model = Sequential()\n",
        "model.add(Embedding(tam_vocab, tam_vector_embed,\n",
        "                                     input_length=Xt.shape[1]) )\n",
        "model.add(SpatialDropout1D(0.25))\n",
        "model.add(LSTM(10, dropout=0.5, recurrent_dropout=0.5))\n",
        "model.add(Dropout(0.5))\n",
        "model.add(Dense(1, activation='sigmoid'))\n",
        "model.compile(loss='binary_crossentropy',optimizer='adam',\n",
        "                           metrics=['accuracy'])\n",
        "print(model.summary())"
      ]
    },
    {
      "cell_type": "markdown",
      "id": "united-investigator",
      "metadata": {
        "id": "united-investigator"
      },
      "source": [
        "## Entrenamiento"
      ]
    },
    {
      "cell_type": "code",
      "execution_count": null,
      "id": "clinical-principal",
      "metadata": {
        "ExecuteTime": {
          "end_time": "2021-09-30T21:43:17.487291Z",
          "start_time": "2021-09-30T21:42:44.690970Z"
        },
        "colab": {
          "base_uri": "https://localhost:8080/"
        },
        "id": "clinical-principal",
        "outputId": "c8dcf949-5726-4e76-9bc5-932f7f9ecd68"
      },
      "outputs": [
        {
          "output_type": "stream",
          "name": "stdout",
          "text": [
            "Epoch 1/10\n",
            "7/7 [==============================] - 2s 293ms/step - loss: 0.2282 - accuracy: 0.9404 - val_loss: 0.2799 - val_accuracy: 0.9231\n",
            "Epoch 2/10\n",
            "7/7 [==============================] - 2s 292ms/step - loss: 0.2235 - accuracy: 0.9404 - val_loss: 0.2812 - val_accuracy: 0.9231\n",
            "Epoch 3/10\n",
            "7/7 [==============================] - 2s 273ms/step - loss: 0.2133 - accuracy: 0.9404 - val_loss: 0.2827 - val_accuracy: 0.9231\n",
            "Epoch 4/10\n",
            "7/7 [==============================] - 4s 663ms/step - loss: 0.2201 - accuracy: 0.9404 - val_loss: 0.2840 - val_accuracy: 0.9231\n",
            "Epoch 5/10\n",
            "7/7 [==============================] - 2s 294ms/step - loss: 0.2591 - accuracy: 0.9404 - val_loss: 0.2852 - val_accuracy: 0.9231\n",
            "Epoch 6/10\n",
            "7/7 [==============================] - 2s 275ms/step - loss: 0.2267 - accuracy: 0.9404 - val_loss: 0.2857 - val_accuracy: 0.9231\n",
            "Epoch 7/10\n",
            "7/7 [==============================] - 2s 269ms/step - loss: 0.2425 - accuracy: 0.9404 - val_loss: 0.2849 - val_accuracy: 0.9231\n",
            "Epoch 8/10\n",
            "7/7 [==============================] - 2s 265ms/step - loss: 0.2659 - accuracy: 0.9404 - val_loss: 0.2832 - val_accuracy: 0.9231\n",
            "Epoch 9/10\n",
            "7/7 [==============================] - 2s 270ms/step - loss: 0.2493 - accuracy: 0.9404 - val_loss: 0.2817 - val_accuracy: 0.9231\n",
            "Epoch 10/10\n",
            "7/7 [==============================] - 4s 613ms/step - loss: 0.2253 - accuracy: 0.9404 - val_loss: 0.2808 - val_accuracy: 0.9231\n"
          ]
        }
      ],
      "source": [
        "historia = model.fit(Xt,yt,\n",
        "                  validation_split=0.3, epochs=10, batch_size=25,shuffle=True)"
      ]
    },
    {
      "cell_type": "code",
      "execution_count": null,
      "id": "impressive-checkout",
      "metadata": {
        "ExecuteTime": {
          "end_time": "2021-09-30T21:43:17.693728Z",
          "start_time": "2021-09-30T21:43:17.488488Z"
        },
        "colab": {
          "base_uri": "https://localhost:8080/",
          "height": 455
        },
        "id": "impressive-checkout",
        "outputId": "5155259d-c503-46a3-9907-466120c1a4b9"
      },
      "outputs": [
        {
          "output_type": "display_data",
          "data": {
            "text/plain": [
              "<Figure size 1200x500 with 2 Axes>"
            ],
            "image/png": "[encoded data removed]"
          },
          "metadata": {}
        }
      ],
      "source": [
        "historia = historia.history\n",
        "fig = plt.figure(figsize=(12,5))\n",
        "ax = fig.add_subplot(1,2,1)\n",
        "ax.plot(historia['loss'],'-o',label='Pérdida de Entrenamiento')\n",
        "ax.plot(historia['val_loss'],'--<',label='Pérdida de Validación')\n",
        "ax.set_title('Pérdida',size=15)\n",
        "ax.set_xlabel('Época',size=15)\n",
        "ax.tick_params(axis='both',which='major',labelsize=15)\n",
        "ax.legend(fontsize=15)\n",
        "ax = fig.add_subplot(1,2,2)\n",
        "ax.plot(historia['accuracy'],'-o',label='Precisión Entrenamiento')\n",
        "ax.plot(historia['val_accuracy'],'--<',label='Precisión Validación')\n",
        "ax.set_title('Precisión',size=15)\n",
        "ax.set_xlabel('Época',size=15)\n",
        "ax.tick_params(axis='both',which='major',labelsize=15)\n",
        "ax.legend(fontsize=15)\n",
        "plt.show()"
      ]
    },
    {
      "cell_type": "markdown",
      "id": "married-aspect",
      "metadata": {
        "id": "married-aspect"
      },
      "source": [
        "## Prueba del modelo"
      ]
    },
    {
      "cell_type": "code",
      "execution_count": null,
      "id": "norman-andrews",
      "metadata": {
        "ExecuteTime": {
          "end_time": "2021-09-30T21:43:18.731211Z",
          "start_time": "2021-09-30T21:43:17.695380Z"
        },
        "colab": {
          "base_uri": "https://localhost:8080/"
        },
        "id": "norman-andrews",
        "outputId": "66a12b7e-7b03-482e-f6f5-898c985194e3"
      },
      "outputs": [
        {
          "output_type": "stream",
          "name": "stdout",
          "text": [
            "7/7 [==============================] - 0s 21ms/step\n",
            "2/2 [==============================] - 0s 22ms/step\n"
          ]
        }
      ],
      "source": [
        "yt_pred = model.predict(Xt)\n",
        "yt_pred = np.array([int(x[0]>=0.5) for x in yt_pred])\n",
        "yv_pred = model.predict(Xv)\n",
        "yv_pred = np.array([int(x[0]>=0.5) for x in yv_pred])"
      ]
    },
    {
      "cell_type": "code",
      "execution_count": null,
      "id": "annoying-hamburg",
      "metadata": {
        "ExecuteTime": {
          "end_time": "2021-09-30T21:43:19.590955Z",
          "start_time": "2021-09-30T21:43:18.732332Z"
        },
        "colab": {
          "base_uri": "https://localhost:8080/"
        },
        "id": "annoying-hamburg",
        "outputId": "59dda187-a874-4fb5-ddbd-16eb7eaf9be0"
      },
      "outputs": [
        {
          "output_type": "stream",
          "name": "stdout",
          "text": [
            "7/7 [==============================] - 0s 39ms/step\n",
            "2/2 [==============================] - 0s 38ms/step\n"
          ]
        }
      ],
      "source": [
        "yt_score =np.array([x[0] for x in model.predict(Xt)])\n",
        "yv_score =np.array([x[0] for x in model.predict(Xv)])"
      ]
    },
    {
      "cell_type": "code",
      "execution_count": null,
      "id": "viral-corrections",
      "metadata": {
        "ExecuteTime": {
          "end_time": "2021-09-30T21:43:19.595027Z",
          "start_time": "2021-09-30T21:43:19.592047Z"
        },
        "colab": {
          "base_uri": "https://localhost:8080/"
        },
        "id": "viral-corrections",
        "outputId": "ebe3755a-5986-4b90-e15b-b570fae69256"
      },
      "outputs": [
        {
          "output_type": "execute_result",
          "data": {
            "text/plain": [
              "(0.9351851851851852, 0.9636363636363636)"
            ]
          },
          "metadata": {},
          "execution_count": 38
        }
      ],
      "source": [
        "accuracy_score(y_true=yt,y_pred=yt_pred),accuracy_score(y_true=yv,y_pred=yv_pred)"
      ]
    },
    {
      "cell_type": "code",
      "execution_count": null,
      "id": "talented-request",
      "metadata": {
        "ExecuteTime": {
          "end_time": "2021-09-30T21:43:19.720883Z",
          "start_time": "2021-09-30T21:43:19.595928Z"
        },
        "colab": {
          "base_uri": "https://localhost:8080/"
        },
        "id": "talented-request",
        "outputId": "86f5f6e6-dad2-4427-81a8-273362f69758"
      },
      "outputs": [
        {
          "output_type": "execute_result",
          "data": {
            "text/plain": [
              "(0.8221357850070722, 0.330188679245283)"
            ]
          },
          "metadata": {},
          "execution_count": 39
        }
      ],
      "source": [
        "roc_auc_score(y_true=yt,y_score=yt_score),roc_auc_score(y_true=yv,y_score=yv_score)"
      ]
    },
    {
      "cell_type": "code",
      "execution_count": null,
      "id": "governmental-television",
      "metadata": {
        "ExecuteTime": {
          "end_time": "2021-09-30T21:43:53.467114Z",
          "start_time": "2021-09-30T21:43:53.461024Z"
        },
        "colab": {
          "base_uri": "https://localhost:8080/"
        },
        "id": "governmental-television",
        "outputId": "9b04ac18-bc77-4d80-f406-98175e3c76c6"
      },
      "outputs": [
        {
          "output_type": "stream",
          "name": "stdout",
          "text": [
            "docente transmitir conocimiento práctica difícil clase sinceramente gustado aprender módulo \t 1\n",
            "\n",
            "gustar teoría decir en clase ver tema ir \t 1\n",
            "\n"
          ]
        }
      ],
      "source": [
        "for i in range(len(yv)):\n",
        "    if yv[i] == 1:\n",
        "        print(tk.sequences_to_texts(Xv)[i],'\\t',yv[i],end='\\n\\n')"
      ]
    },
    {
      "cell_type": "code",
      "execution_count": null,
      "id": "polish-aberdeen",
      "metadata": {
        "colab": {
          "base_uri": "https://localhost:8080/"
        },
        "id": "polish-aberdeen",
        "outputId": "a52c89f4-186b-4cf0-bb9e-fe9dd7461f61"
      },
      "outputs": [
        {
          "output_type": "stream",
          "name": "stdout",
          "text": [
            "módulo deber tiempo \t 1\n",
            "\n",
            "general calidad curso buen ponente tema mantener actitud agregar entender tema nota repasar tema \t 1\n",
            "\n",
            "gusto material tema instructor problema actitud confianza preguntar duda \t 1\n",
            "\n",
            "profesor nota faltar ejercicio faltar clase \t 1\n",
            "\n",
            "comentario \t 1\n",
            "\n",
            "faltar dominio tema faltar tema dominio él tema \t 1\n",
            "\n",
            "dudar módulo completo embargo seguir él ritmo clase desarrollo código paso paso aplicar teoría código hacer clase tiempo entrega práctico clase yo gustar profesorar dominio tema claro explicar \t 1\n",
            "\n",
            "profesor cuestión bueno actitud principio seguir conforme avanzar módulo alumno saber \t 1\n",
            "\n",
            "curso pesado materia instructor impartir excelente \t 1\n",
            "\n",
            "módulo teórico \t 1\n",
            "\n",
            "módulo código él \t 1\n",
            "\n",
            "sentir clase profesor actitud duda quedar transmitir yo gustado material revisar etc diferencia módulo pasado tarea yo gustar actividad retroalimentación mejorar agradecer exponer confianza comprensivo entregar \t 1\n",
            "\n",
            "profesorar conocimiento notar muchísimo enseñar parecer clase más laboral cosa difícil módulo 3 diplomado diplomado \t 1\n",
            "\n",
            "contenido módulo aprender cosa ver superficial faltar tiempo \t 1\n",
            "\n"
          ]
        }
      ],
      "source": [
        "for i in range(len(yt)):\n",
        "    if yt[i] == 1:\n",
        "        print(tk.sequences_to_texts(Xt)[i],'\\t',yt[i],end='\\n\\n')"
      ]
    },
    {
      "cell_type": "code",
      "source": [],
      "metadata": {
        "id": "CfRJAY3rW5UG"
      },
      "id": "CfRJAY3rW5UG",
      "execution_count": null,
      "outputs": []
    }
  ],
  "metadata": {
    "kernelspec": {
      "display_name": "Python 3",
      "language": "python",
      "name": "python3"
    },
    "language_info": {
      "codemirror_mode": {
        "name": "ipython",
        "version": 3
      },
      "file_extension": ".py",
      "mimetype": "text/x-python",
      "name": "python",
      "nbconvert_exporter": "python",
      "pygments_lexer": "ipython3",
      "version": "3.8.10"
    },
    "toc": {
      "base_numbering": 1,
      "nav_menu": {},
      "number_sections": true,
      "sideBar": true,
      "skip_h1_title": false,
      "title_cell": "Table of Contents",
      "title_sidebar": "Contents",
      "toc_cell": false,
      "toc_position": {
        "height": "calc(100% - 180px)",
        "left": "10px",
        "top": "150px",
        "width": "194px"
      },
      "toc_section_display": true,
      "toc_window_display": true
    },
    "colab": {
      "provenance": []
    },
    "accelerator": "GPU",
    "gpuClass": "standard"
  },
  "nbformat": 4,
  "nbformat_minor": 5
}